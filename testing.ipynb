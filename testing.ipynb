{
 "cells": [
  {
   "cell_type": "code",
   "execution_count": 24,
   "metadata": {},
   "outputs": [
    {
     "name": "stdout",
     "output_type": "stream",
     "text": [
      "norton.txt\n",
      "[t]\n",
      "softwa\n",
      "Nokia 6600.txt\n",
      "[t]\n",
      "phone[\n",
      "Hitachi router.txt\n",
      "[t]\n",
      "perfor\n",
      "ipod.txt\n",
      "##Don't ge\n",
      "Diaper Champ.txt\n",
      "[t]\n",
      "Works[\n",
      "Linksys Router.txt\n",
      "[t]\n",
      "router\n",
      "Canon S100.txt\n",
      "[t]\n",
      "small[\n",
      "MicroMP3.txt\n",
      "[t]\n",
      "##The \n",
      "Canon PowerShot SD500.txt\n",
      "'utf-8' codec can't decode byte 0x96 in position 1748: invalid start byte\n",
      "Computer.txt\n",
      "## I purch\n",
      "Speaker.txt\n",
      "speakers[+\n",
      "Router.txt\n",
      "price[+1],\n",
      "Nokia 6610.txt\n",
      "**********\n",
      "Canon G3.txt\n",
      "**********\n",
      "Creative Labs Nomad Jukebox Zen Xtra 40GB.txt\n",
      "**********\n",
      "Apex AD2600 Progressive-scan DVD player.txt\n",
      "**********\n",
      "Nikon coolpix 4300.txt\n",
      "**********\n"
     ]
    }
   ],
   "source": [
    "from icecream import ic\n",
    "import pandas as pd\n",
    "import numpy as np\n",
    "import os\n",
    "import re\n",
    "\n",
    "basepath = os.getcwd()\n",
    "raw_txt_dir = \"data\"\n",
    "full_path = os.path.join(basepath, raw_txt_dir)\n",
    "\n",
    "def parsefile(file):\n",
    "    try:\n",
    "        with open(file, mode=\"r\") as f:\n",
    "            contents = f.read()\n",
    "            return contents\n",
    "    except Exception as e:\n",
    "        print(e)    \n",
    "        \n",
    "        \n",
    "def tab_regex(stream):\n",
    "    tab_parts = re.split(r'\\[t\\]', stream)\n",
    "    assert(len(tab_parts)>1)\n",
    "    \n",
    "for folder in os.listdir(full_path):\n",
    "    try:\n",
    "        for file in os.listdir(os.path.join(full_path, folder)):\n",
    "            if str(file) != \"Readme.txt\" and str(file) != \".DS_Store\":\n",
    "                raw_text = parsefile(os.path.join(full_path, folder, file))    \n",
    "    except NotADirectoryError:\n",
    "        pass\n",
    "    \n",
    "    "
   ]
  },
  {
   "cell_type": "code",
   "execution_count": 20,
   "metadata": {},
   "outputs": [],
   "source": []
  },
  {
   "cell_type": "code",
   "execution_count": null,
   "metadata": {},
   "outputs": [],
   "source": []
  }
 ],
 "metadata": {
  "kernelspec": {
   "display_name": "nlp_env",
   "language": "python",
   "name": "python3"
  },
  "language_info": {
   "codemirror_mode": {
    "name": "ipython",
    "version": 3
   },
   "file_extension": ".py",
   "mimetype": "text/x-python",
   "name": "python",
   "nbconvert_exporter": "python",
   "pygments_lexer": "ipython3",
   "version": "3.9.18"
  }
 },
 "nbformat": 4,
 "nbformat_minor": 2
}
