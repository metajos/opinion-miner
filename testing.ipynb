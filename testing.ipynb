{
 "cells": [
  {
   "cell_type": "code",
   "execution_count": null,
   "metadata": {
    "ExecuteTime": {
     "end_time": "2023-12-21T12:08:18.951643Z",
     "start_time": "2023-12-21T12:08:18.794726Z"
    }
   },
   "outputs": [],
   "source": []
  },
  {
   "cell_type": "code",
   "execution_count": 1,
   "metadata": {
    "ExecuteTime": {
     "end_time": "2023-12-21T12:08:26.832764Z",
     "start_time": "2023-12-21T12:08:18.799050Z"
    }
   },
   "outputs": [
    {
     "name": "stderr",
     "output_type": "stream",
     "text": [
      "\n",
      "KeyboardInterrupt\n",
      "\n"
     ]
    }
   ],
   "source": [
    "import math\n",
    "\n",
    "import pandas as pd\n",
    "from matplotlib import pyplot as plt\n",
    "from opinionmining import *"
   ]
  },
  {
   "cell_type": "code",
   "execution_count": null,
   "metadata": {
    "collapsed": false,
    "ExecuteTime": {
     "end_time": "2023-12-21T12:08:26.847635Z",
     "start_time": "2023-12-21T12:08:26.844255Z"
    }
   },
   "outputs": [],
   "source": [
    "paths = []\n",
    "for folder in os.listdir(full_path):\n",
    "    try:\n",
    "        for file in os.listdir(os.path.join(full_path, folder)):\n",
    "            if str(file) != \"Readme.txt\" and str(file) != \".DS_Store\":\n",
    "                paths.append(os.path.join(full_path, folder, file))\n",
    "    except NotADirectoryError:\n",
    "        continue\n",
    "paths[:3]"
   ]
  },
  {
   "cell_type": "code",
   "execution_count": null,
   "metadata": {
    "collapsed": false,
    "ExecuteTime": {
     "end_time": "2023-12-21T12:08:26.847986Z",
     "start_time": "2023-12-21T12:08:26.847823Z"
    }
   },
   "outputs": [],
   "source": [
    "  "
   ]
  },
  {
   "cell_type": "code",
   "execution_count": null,
   "metadata": {
    "collapsed": false,
    "ExecuteTime": {
     "start_time": "2023-12-21T12:08:26.851045Z"
    }
   },
   "outputs": [],
   "source": [
    "SAVE = False\n",
    "pwd = os.getcwd()\n",
    "filename = \"db.csv\"\n",
    "if SAVE:\n",
    "    db = ReviewDatabase(paths).dataframe.to_csv(os.path.join(pwd, filename))\n",
    "else:\n",
    "    db = pd.read_csv(filename)\n",
    "\n",
    "database = db.where(db[\"Product_ID\"] == 1).copy().dropna()\n"
   ]
  },
  {
   "cell_type": "code",
   "execution_count": null,
   "metadata": {
    "collapsed": false,
    "ExecuteTime": {
     "start_time": "2023-12-21T12:08:26.857342Z"
    }
   },
   "outputs": [],
   "source": [
    "database.Sentence"
   ]
  },
  {
   "cell_type": "code",
   "execution_count": null,
   "metadata": {
    "collapsed": false,
    "ExecuteTime": {
     "end_time": "2023-12-21T12:08:26.889388Z",
     "start_time": "2023-12-21T12:08:26.863231Z"
    }
   },
   "outputs": [],
   "source": [
    "\n",
    "database[\"ExtractedCategories\"] = pd.Series(map(lambda x: FeatureExtraction.categories(x), database.Sentence))\n"
   ]
  },
  {
   "cell_type": "markdown",
   "metadata": {
    "collapsed": false
   },
   "source": [
    "What is the product?\n",
    "What are the opinion categories?\n",
    "What is the sentiment of the opinion categories?"
   ]
  },
  {
   "cell_type": "code",
   "execution_count": null,
   "metadata": {
    "collapsed": false,
    "ExecuteTime": {
     "start_time": "2023-12-21T12:08:26.866446Z"
    }
   },
   "outputs": [],
   "source": [
    "review_1 = database.where(database[\"Product_ID\"] == 1)\n",
    "review_1"
   ]
  },
  {
   "cell_type": "code",
   "execution_count": null,
   "metadata": {
    "collapsed": false,
    "ExecuteTime": {
     "start_time": "2023-12-21T12:08:26.869766Z"
    }
   },
   "outputs": [],
   "source": []
  },
  {
   "cell_type": "code",
   "execution_count": null,
   "metadata": {
    "collapsed": false,
    "ExecuteTime": {
     "start_time": "2023-12-21T12:08:26.877207Z"
    }
   },
   "outputs": [],
   "source": [
    "#Create a copy of the database to perform feature extraction\n",
    "category_table = database.loc[:,\"Product_ID\":\"Sentence_ID\"].copy()\n",
    "# Perform Stemming on the sentences\n",
    "category_table[\"Stemmed_Sentence\"] = database.Sentence.apply(lambda x: FeatureExtraction.stemming([x])[0])\n",
    "# Remove the stop words\n",
    "category_table[\"Stemmed_Sentence\"] = category_table[\"Stemmed_Sentence\"].apply(lambda x: FeatureExtraction.remove_stop([x])[0])\n",
    "\n",
    "category_table[\"FuzzyMatchedCategories\"] = database[\"ExtractedCategories\"].apply(lambda x: FeatureExtraction.fuzzy_match_categories())\n",
    "# category_table[\"Stemmed\"] = category_table[\"ExtractedCategories\"].apply(lambda x : FeatureExtraction.stemming(x))\n",
    "# display(category_table)\n",
    "# # Flatten the stemmed categories into a list and then count the frequencies of each category\n",
    "# flattened_list =  [category for category_set in category_table[\"Stemmed\"] for category in category_set]\n",
    "# counter = Counter(flattened_list)\n",
    "# counts = [c for p, c in counter.most_common()]\n",
    "# items = [p for p, c in counter.most_common()]\n",
    "# # counts\n",
    "# counter.most_common(10)\n"
   ]
  },
  {
   "cell_type": "code",
   "execution_count": null,
   "metadata": {
    "collapsed": false,
    "ExecuteTime": {
     "start_time": "2023-12-21T12:08:26.879924Z"
    }
   },
   "outputs": [],
   "source": [
    "\n",
    "\n",
    "\n"
   ]
  },
  {
   "cell_type": "code",
   "execution_count": null,
   "metadata": {
    "collapsed": false,
    "ExecuteTime": {
     "start_time": "2023-12-21T12:08:26.883409Z"
    }
   },
   "outputs": [],
   "source": []
  },
  {
   "cell_type": "code",
   "execution_count": null,
   "metadata": {
    "collapsed": false,
    "ExecuteTime": {
     "start_time": "2023-12-21T12:08:26.886611Z"
    }
   },
   "outputs": [],
   "source": [
    "\n",
    "\n",
    "        "
   ]
  },
  {
   "cell_type": "code",
   "execution_count": null,
   "outputs": [],
   "source": [],
   "metadata": {
    "collapsed": false,
    "ExecuteTime": {
     "end_time": "2023-12-21T12:08:26.908533Z",
     "start_time": "2023-12-21T12:08:26.892199Z"
    }
   }
  },
  {
   "cell_type": "code",
   "execution_count": null,
   "metadata": {
    "collapsed": false,
    "ExecuteTime": {
     "start_time": "2023-12-21T12:08:26.895474Z"
    }
   },
   "outputs": [],
   "source": [
    "\n",
    "        \n",
    "# category_table[\"fuzzymatched_topics\"] = pd.Series(map(lambda x: FeatureExtraction.fuzzy_match_categories(x, searchable_topics), category_table.Stemmed))\n",
    "\n",
    "\n",
    "topic_vocabulary = set([word for sublist in category_table.fuzzymatched_topics for word in sublist])\n",
    "# Initialize the vectorizer\n",
    "vectorizer = CountVectorizer(vocabulary=topic_vocabulary, binary=True)\n",
    "\n",
    "# Apply the vectorizer\n",
    "vector_matrix = vectorizer.fit_transform(category_table['fuzzymatched_topics'].apply(lambda x: \" \".join(x)))\n",
    "# vector_df = pd.DataFrame(vector_matrix.toarray(), columns=vectorizer.get_feature_names_out())\n",
    "# category_table['topic_vectors'] = vector_df.values.tolist()\n"
   ]
  },
  {
   "cell_type": "code",
   "execution_count": null,
   "metadata": {
    "collapsed": false,
    "ExecuteTime": {
     "start_time": "2023-12-21T12:08:26.897576Z"
    }
   },
   "outputs": [],
   "source": [
    "category_table"
   ]
  },
  {
   "cell_type": "markdown",
   "metadata": {
    "collapsed": false
   },
   "source": [
    "The difficulty here is in mapping between effectively a many to one (through the process of stemming) to a one to one, where each category can be read as the most common form of that category.  Relies on explicitly stated product categories. "
   ]
  },
  {
   "cell_type": "code",
   "execution_count": null,
   "metadata": {
    "collapsed": false,
    "ExecuteTime": {
     "start_time": "2023-12-21T12:08:26.899627Z"
    }
   },
   "outputs": [],
   "source": [
    "\n",
    "    "
   ]
  },
  {
   "cell_type": "markdown",
   "metadata": {
    "collapsed": false
   },
   "source": [
    "Use unsupervised learning to match stemmed review topics to broader content topics\n",
    "- do this by vectorizing the "
   ]
  },
  {
   "cell_type": "code",
   "execution_count": null,
   "metadata": {
    "collapsed": false,
    "ExecuteTime": {
     "start_time": "2023-12-21T12:08:26.901912Z"
    }
   },
   "outputs": [],
   "source": [
    "from sklearn.cluster import KMeans\n",
    "from sklearn.feature_extraction.text import CountVectorizer, TfidfVectorizer\n",
    "\n",
    "vocabulary = category_table.Stemmed_Sentence.to_numpy().flatten()\n",
    "# \n",
    "# # Applying KMeans\n",
    "# kmeans = KMeans(n_clusters=2, random_state=0).fit(X)\n",
    "# \n",
    "# # Predicting the clusters\n",
    "# labels = kmeans.predict(X)\n",
    "# \n",
    "# # Plotting\n",
    "# plt.scatter(X[:, 0], X[:, 1], c=labels, cmap='viridis')\n",
    "# plt.show()"
   ]
  },
  {
   "cell_type": "code",
   "execution_count": null,
   "metadata": {
    "collapsed": false,
    "ExecuteTime": {
     "start_time": "2023-12-21T12:08:26.907148Z"
    }
   },
   "outputs": [],
   "source": [
    "vocabulary"
   ]
  },
  {
   "cell_type": "code",
   "execution_count": null,
   "metadata": {
    "collapsed": false,
    "ExecuteTime": {
     "start_time": "2023-12-21T12:08:26.911629Z"
    }
   },
   "outputs": [],
   "source": [
    "\n"
   ]
  },
  {
   "cell_type": "code",
   "execution_count": null,
   "metadata": {
    "collapsed": false,
    "ExecuteTime": {
     "start_time": "2023-12-21T12:08:26.913878Z"
    }
   },
   "outputs": [],
   "source": [
    "\n",
    "\n"
   ]
  },
  {
   "cell_type": "code",
   "execution_count": null,
   "metadata": {
    "collapsed": false,
    "ExecuteTime": {
     "start_time": "2023-12-21T12:08:26.916514Z"
    }
   },
   "outputs": [],
   "source": []
  }
 ],
 "metadata": {
  "kernelspec": {
   "display_name": "nlp_env",
   "language": "python",
   "name": "python3"
  },
  "language_info": {
   "codemirror_mode": {
    "name": "ipython",
    "version": 3
   },
   "file_extension": ".py",
   "mimetype": "text/x-python",
   "name": "python",
   "nbconvert_exporter": "python",
   "pygments_lexer": "ipython3",
   "version": "3.9.18"
  }
 },
 "nbformat": 4,
 "nbformat_minor": 2
}
