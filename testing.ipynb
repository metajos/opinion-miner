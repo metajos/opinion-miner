{
 "cells": [
  {
   "cell_type": "code",
   "execution_count": 1,
   "metadata": {
    "ExecuteTime": {
     "end_time": "2023-12-17T16:47:43.159084Z",
     "start_time": "2023-12-17T16:47:40.127947Z"
    }
   },
   "outputs": [],
   "source": [
    "import pandas as pd\n",
    "\n",
    "from opinionmining import *"
   ]
  },
  {
   "cell_type": "code",
   "execution_count": 2,
   "outputs": [
    {
     "data": {
      "text/plain": "['/Users/jossinger/Dropbox/Studies/Bath_Artificial_Intelligence/Course Material/6_NLP/Programming/Submission/data/Reviews-9-products/norton.txt',\n '/Users/jossinger/Dropbox/Studies/Bath_Artificial_Intelligence/Course Material/6_NLP/Programming/Submission/data/Reviews-9-products/Nokia 6600.txt',\n '/Users/jossinger/Dropbox/Studies/Bath_Artificial_Intelligence/Course Material/6_NLP/Programming/Submission/data/Reviews-9-products/Hitachi router.txt',\n '/Users/jossinger/Dropbox/Studies/Bath_Artificial_Intelligence/Course Material/6_NLP/Programming/Submission/data/Reviews-9-products/ipod.txt',\n '/Users/jossinger/Dropbox/Studies/Bath_Artificial_Intelligence/Course Material/6_NLP/Programming/Submission/data/Reviews-9-products/Diaper Champ.txt',\n '/Users/jossinger/Dropbox/Studies/Bath_Artificial_Intelligence/Course Material/6_NLP/Programming/Submission/data/Reviews-9-products/Linksys Router.txt',\n '/Users/jossinger/Dropbox/Studies/Bath_Artificial_Intelligence/Course Material/6_NLP/Programming/Submission/data/Reviews-9-products/Canon S100.txt',\n '/Users/jossinger/Dropbox/Studies/Bath_Artificial_Intelligence/Course Material/6_NLP/Programming/Submission/data/Reviews-9-products/MicroMP3.txt',\n '/Users/jossinger/Dropbox/Studies/Bath_Artificial_Intelligence/Course Material/6_NLP/Programming/Submission/data/Reviews-9-products/Canon PowerShot SD500.txt',\n '/Users/jossinger/Dropbox/Studies/Bath_Artificial_Intelligence/Course Material/6_NLP/Programming/Submission/data/CustomerReviews-3_domains/Computer.txt',\n '/Users/jossinger/Dropbox/Studies/Bath_Artificial_Intelligence/Course Material/6_NLP/Programming/Submission/data/CustomerReviews-3_domains/Speaker.txt',\n '/Users/jossinger/Dropbox/Studies/Bath_Artificial_Intelligence/Course Material/6_NLP/Programming/Submission/data/CustomerReviews-3_domains/Router.txt',\n '/Users/jossinger/Dropbox/Studies/Bath_Artificial_Intelligence/Course Material/6_NLP/Programming/Submission/data/Customer_review_data/Nokia 6610.txt',\n '/Users/jossinger/Dropbox/Studies/Bath_Artificial_Intelligence/Course Material/6_NLP/Programming/Submission/data/Customer_review_data/Canon G3.txt',\n '/Users/jossinger/Dropbox/Studies/Bath_Artificial_Intelligence/Course Material/6_NLP/Programming/Submission/data/Customer_review_data/Creative Labs Nomad Jukebox Zen Xtra 40GB.txt',\n '/Users/jossinger/Dropbox/Studies/Bath_Artificial_Intelligence/Course Material/6_NLP/Programming/Submission/data/Customer_review_data/Apex AD2600 Progressive-scan DVD player.txt',\n '/Users/jossinger/Dropbox/Studies/Bath_Artificial_Intelligence/Course Material/6_NLP/Programming/Submission/data/Customer_review_data/Nikon coolpix 4300.txt']"
     },
     "execution_count": 2,
     "metadata": {},
     "output_type": "execute_result"
    }
   ],
   "source": [
    "paths = []\n",
    "for folder in os.listdir(full_path):\n",
    "    try:\n",
    "        for file in os.listdir(os.path.join(full_path, folder)):\n",
    "            if str(file) != \"Readme.txt\" and str(file) != \".DS_Store\":\n",
    "                paths.append(os.path.join(full_path, folder, file))\n",
    "    except NotADirectoryError:\n",
    "        continue\n",
    "paths"
   ],
   "metadata": {
    "collapsed": false,
    "ExecuteTime": {
     "end_time": "2023-12-17T16:47:43.171136Z",
     "start_time": "2023-12-17T16:47:43.161650Z"
    }
   }
  },
  {
   "cell_type": "code",
   "execution_count": 2,
   "outputs": [],
   "source": [
    "  "
   ],
   "metadata": {
    "collapsed": false,
    "ExecuteTime": {
     "end_time": "2023-12-17T16:47:43.176395Z",
     "start_time": "2023-12-17T16:47:43.169298Z"
    }
   }
  },
  {
   "cell_type": "code",
   "execution_count": 3,
   "outputs": [],
   "source": [
    "SAVE = False\n",
    "pwd = os.getcwd()\n",
    "filename = \"db.csv\"\n",
    "if SAVE:\n",
    "    db = ReviewDatabase(paths).dataframe.to_csv(os.path.join(pwd, filename))\n",
    "else:\n",
    "    db = pd.read_csv(filename)\n",
    "\n",
    "database = db.where(db[\"Product_ID\"] == 1).copy().dropna()\n"
   ],
   "metadata": {
    "collapsed": false,
    "ExecuteTime": {
     "end_time": "2023-12-17T16:47:43.210725Z",
     "start_time": "2023-12-17T16:47:43.174251Z"
    }
   }
  },
  {
   "cell_type": "code",
   "execution_count": 4,
   "outputs": [
    {
     "data": {
      "text/plain": "0      I have read the installation instructions for ...\n1      Why is it that I can install any other type of...\n2      But if I installed either one of these Norton ...\n3      It can not be the computer or the owner, since...\n4      I have used Norton for the past 5 years and fo...\n                             ...                        \n373    Of course, if you try to reach Symantec custom...\n374    Meanwhile, the damn alert is still popping up ...\n375    Finally I ran msconfig and went into the \"serv...\n376    This time, it started the uninstallation proce...\n377    I simply hate Symantec. I swear, if I could ha...\nName: Sentence, Length: 378, dtype: object"
     },
     "execution_count": 4,
     "metadata": {},
     "output_type": "execute_result"
    }
   ],
   "source": [
    "database.Sentence"
   ],
   "metadata": {
    "collapsed": false,
    "ExecuteTime": {
     "end_time": "2023-12-17T16:47:43.218688Z",
     "start_time": "2023-12-17T16:47:43.200176Z"
    }
   }
  },
  {
   "cell_type": "code",
   "execution_count": 5,
   "outputs": [],
   "source": [
    "\n",
    "database[\"ExtractedCategories\"] = pd.Series(map(lambda x: FeatureExtraction.categories(x), database.Sentence))\n"
   ],
   "metadata": {
    "collapsed": false,
    "ExecuteTime": {
     "end_time": "2023-12-17T16:47:45.636587Z",
     "start_time": "2023-12-17T16:47:43.206342Z"
    }
   }
  },
  {
   "cell_type": "markdown",
   "source": [
    "What is the product?\n",
    "What are the opinion categories?\n",
    "What is the sentiment of the opinion categories?"
   ],
   "metadata": {
    "collapsed": false
   }
  },
  {
   "cell_type": "code",
   "execution_count": 6,
   "outputs": [
    {
     "data": {
      "text/plain": "     Unnamed: 0  Product_ID  Review_ID  Sentence_ID                                           Sentence                   gt_categories gt_score                                ExtractedCategories\n0           0.0         1.0        1.0          1.0  I have read the installation instructions for ...                   ('software',)    (-3,)  [installation_instructions, nis, installation,...\n1           1.0         1.0        1.0          2.0  Why is it that I can install any other type of...               ('no sentiment',)     (0,)                                   [type, software]\n2           2.0         1.0        1.0          3.0  But if I installed either one of these Norton ...            ('norton products',)    (-3,)                    [norton_products, installation]\n3           3.0         1.0        1.0          4.0  It can not be the computer or the owner, since...        ('mcafee anti-virus 8',)     (2,)             [computer, owner, virus, NOT_problems]\n4           4.0         1.0        1.0          5.0  I have used Norton for the past 5 years and fo...                     ('norton',)    (-2,)              [norton, past_years, years, software]\n..          ...         ...        ...          ...                                                ...                             ...      ...                                                ...\n373       373.0         1.0       45.0        374.0  Of course, if you try to reach Symantec custom...  ('symantec customer service',)    (-3,)  [course, symantec_customer_service, useless_au...\n374       374.0         1.0       45.0        375.0  Meanwhile, the damn alert is still popping up ...               ('no sentiment',)     (0,)                              [damn_alert, seconds]\n375       375.0         1.0       45.0        376.0  Finally I ran msconfig and went into the \"serv...               ('no sentiment',)     (0,)  [msconfig, services_tab, norton_symantec_servi...\n376       376.0         1.0       45.0        377.0  This time, it started the uninstallation proce...             ('uninstallation',)    (-1,)                     [uninstallation_process, work]\n377       377.0         1.0       45.0        378.0  I simply hate Symantec. I swear, if I could ha...                   ('symantec',)    (-3,)          [software, computer, bare_bleeding_hands]\n\n[378 rows x 8 columns]",
      "text/html": "<div>\n<style scoped>\n    .dataframe tbody tr th:only-of-type {\n        vertical-align: middle;\n    }\n\n    .dataframe tbody tr th {\n        vertical-align: top;\n    }\n\n    .dataframe thead th {\n        text-align: right;\n    }\n</style>\n<table border=\"1\" class=\"dataframe\">\n  <thead>\n    <tr style=\"text-align: right;\">\n      <th></th>\n      <th>Unnamed: 0</th>\n      <th>Product_ID</th>\n      <th>Review_ID</th>\n      <th>Sentence_ID</th>\n      <th>Sentence</th>\n      <th>gt_categories</th>\n      <th>gt_score</th>\n      <th>ExtractedCategories</th>\n    </tr>\n  </thead>\n  <tbody>\n    <tr>\n      <th>0</th>\n      <td>0.0</td>\n      <td>1.0</td>\n      <td>1.0</td>\n      <td>1.0</td>\n      <td>I have read the installation instructions for ...</td>\n      <td>('software',)</td>\n      <td>(-3,)</td>\n      <td>[installation_instructions, nis, installation,...</td>\n    </tr>\n    <tr>\n      <th>1</th>\n      <td>1.0</td>\n      <td>1.0</td>\n      <td>1.0</td>\n      <td>2.0</td>\n      <td>Why is it that I can install any other type of...</td>\n      <td>('no sentiment',)</td>\n      <td>(0,)</td>\n      <td>[type, software]</td>\n    </tr>\n    <tr>\n      <th>2</th>\n      <td>2.0</td>\n      <td>1.0</td>\n      <td>1.0</td>\n      <td>3.0</td>\n      <td>But if I installed either one of these Norton ...</td>\n      <td>('norton products',)</td>\n      <td>(-3,)</td>\n      <td>[norton_products, installation]</td>\n    </tr>\n    <tr>\n      <th>3</th>\n      <td>3.0</td>\n      <td>1.0</td>\n      <td>1.0</td>\n      <td>4.0</td>\n      <td>It can not be the computer or the owner, since...</td>\n      <td>('mcafee anti-virus 8',)</td>\n      <td>(2,)</td>\n      <td>[computer, owner, virus, NOT_problems]</td>\n    </tr>\n    <tr>\n      <th>4</th>\n      <td>4.0</td>\n      <td>1.0</td>\n      <td>1.0</td>\n      <td>5.0</td>\n      <td>I have used Norton for the past 5 years and fo...</td>\n      <td>('norton',)</td>\n      <td>(-2,)</td>\n      <td>[norton, past_years, years, software]</td>\n    </tr>\n    <tr>\n      <th>...</th>\n      <td>...</td>\n      <td>...</td>\n      <td>...</td>\n      <td>...</td>\n      <td>...</td>\n      <td>...</td>\n      <td>...</td>\n      <td>...</td>\n    </tr>\n    <tr>\n      <th>373</th>\n      <td>373.0</td>\n      <td>1.0</td>\n      <td>45.0</td>\n      <td>374.0</td>\n      <td>Of course, if you try to reach Symantec custom...</td>\n      <td>('symantec customer service',)</td>\n      <td>(-3,)</td>\n      <td>[course, symantec_customer_service, useless_au...</td>\n    </tr>\n    <tr>\n      <th>374</th>\n      <td>374.0</td>\n      <td>1.0</td>\n      <td>45.0</td>\n      <td>375.0</td>\n      <td>Meanwhile, the damn alert is still popping up ...</td>\n      <td>('no sentiment',)</td>\n      <td>(0,)</td>\n      <td>[damn_alert, seconds]</td>\n    </tr>\n    <tr>\n      <th>375</th>\n      <td>375.0</td>\n      <td>1.0</td>\n      <td>45.0</td>\n      <td>376.0</td>\n      <td>Finally I ran msconfig and went into the \"serv...</td>\n      <td>('no sentiment',)</td>\n      <td>(0,)</td>\n      <td>[msconfig, services_tab, norton_symantec_servi...</td>\n    </tr>\n    <tr>\n      <th>376</th>\n      <td>376.0</td>\n      <td>1.0</td>\n      <td>45.0</td>\n      <td>377.0</td>\n      <td>This time, it started the uninstallation proce...</td>\n      <td>('uninstallation',)</td>\n      <td>(-1,)</td>\n      <td>[uninstallation_process, work]</td>\n    </tr>\n    <tr>\n      <th>377</th>\n      <td>377.0</td>\n      <td>1.0</td>\n      <td>45.0</td>\n      <td>378.0</td>\n      <td>I simply hate Symantec. I swear, if I could ha...</td>\n      <td>('symantec',)</td>\n      <td>(-3,)</td>\n      <td>[software, computer, bare_bleeding_hands]</td>\n    </tr>\n  </tbody>\n</table>\n<p>378 rows × 8 columns</p>\n</div>"
     },
     "execution_count": 6,
     "metadata": {},
     "output_type": "execute_result"
    }
   ],
   "source": [
    "review_1 = database.where(database[\"Product_ID\"] == 1)\n",
    "review_1"
   ],
   "metadata": {
    "collapsed": false,
    "ExecuteTime": {
     "end_time": "2023-12-17T16:47:45.657776Z",
     "start_time": "2023-12-17T16:47:45.637094Z"
    }
   }
  },
  {
   "cell_type": "code",
   "execution_count": 7,
   "outputs": [
    {
     "data": {
      "text/plain": "[('norton', 27),\n ('product', 23),\n ('nis', 19),\n ('computer', 19),\n ('program', 15),\n ('internet_security', 14),\n ('problems', 13),\n ('version', 13),\n ('software', 11),\n ('problem', 11),\n ('norton_internet_security', 11),\n ('firewall', 11),\n ('time', 10),\n ('norton_products', 7),\n ('system', 7),\n ('first', 7),\n ('antivirus', 7),\n ('installation', 6),\n ('virus', 6),\n ('reviews', 6),\n ('people', 6),\n ('symantec', 6),\n ('years', 5),\n ('computers', 5),\n ('systemworks', 5),\n ('minutes', 5),\n ('NOT_problems', 4),\n ('products', 4),\n ('windows', 4),\n ('registry', 4),\n ('norton_antivirus', 4),\n ('site', 4),\n ('new_version', 4),\n ('install', 3),\n ('ram', 3),\n ('review', 3),\n ('release', 3),\n ('liveupdate', 3),\n ('market', 3),\n ('hours', 3),\n ('pc', 3),\n ('lot', 3),\n ('instructions', 3),\n ('way', 3),\n ('laptop', 3),\n ('money', 3),\n ('support', 3),\n ('norton_internet', 3),\n ('av', 3),\n ('home_version', 3),\n ('corporate_edition', 3),\n ('work', 3),\n ('outlook', 3),\n ('spam', 3),\n ('fact', 3),\n ('symantec_site', 3),\n ('cost', 3),\n ('lots', 3),\n ('zone_alarm', 3),\n ('xp', 3),\n ('memory', 3),\n ('errors', 2),\n ('internet', 2),\n ('complaints', 2),\n ('headaches', 2),\n ('norton_anti', 2),\n ('pain', 2),\n ('disc', 2),\n ('antivirus_software', 2),\n ('installation_problems', 2),\n ('buggy', 2),\n ('updates', 2),\n ('norton systemworks', 2),\n ('previous_version', 2),\n ('website', 2),\n ('download', 2),\n ('refund', 2),\n ('costs', 2),\n ('major_problems', 2),\n ('bucks', 2),\n ('online_tech_support', 2),\n ('proof', 2),\n ('phone', 2),\n ('package', 2),\n ('reason', 2),\n ('mb', 2),\n ('bugs', 2),\n ('experience', 2),\n ('tech_support', 2),\n ('versions', 2),\n ('things', 2),\n ('crashes', 2),\n ('glitches', 2),\n ('new_computer', 2),\n ('tests', 2),\n ('course', 2),\n ('NOT_trouble', 2),\n ('days', 2),\n ('mcaffee', 2),\n ('update', 2),\n ('level', 2),\n ('solutions', 2),\n ('research', 2),\n ('months', 2),\n ('intrusions', 2),\n ('components', 2),\n ('stars', 2),\n ('installation_process', 2),\n ('features', 2),\n ('subscription_service', 2),\n ('rep', 2),\n ('answer', 2),\n ('symantec_products', 2),\n ('machine', 2),\n ('antispam', 2),\n ('com_automation', 2),\n ('fault', 2),\n ('cd', 2),\n ('bad_product', 2),\n ('security_suite', 2),\n ('nortron_security', 2),\n ('subscription', 2),\n ('performance', 2),\n ('amazon', 2),\n ('pc_magazine', 2),\n ('programs', 2),\n ('hard_drive', 2),\n ('sp2', 2),\n ('mcafee', 2),\n ('alerts', 2),\n ('seconds', 2),\n ('installation_instructions', 1),\n ('result', 1),\n ('junk_software', 1),\n ('type', 1),\n ('owner', 1),\n ('past_years', 1),\n ('past', 1),\n ('installs', 1),\n ('roxio goback', 1),\n ('times', 1),\n ('2nd', 1),\n ('ms_scandisk', 1),\n ('manual_shutdown', 1),\n ('bar', 1),\n ('hr', 1),\n ('goback', 1),\n ('unistall_nis_icon', 1),\n ('charm', 1),\n ('past_norton_customer', 1),\n ('slap', 1),\n ('face', 1),\n ('buying', 1),\n ('position', 1),\n ('non_working_computer', 1),\n ('downhill', 1),\n ('cliff', 1),\n ('loyal_customer', 1),\n ('norton_symantec_products', 1),\n ('software_firewall', 1),\n ('antispam_function', 1),\n ('mountain', 1),\n ('new_updates', 1),\n ('symantec_softwares', 1),\n ('suite', 1),\n ('good_deal', 1),\n ('bundle', 1),\n (\"win'98\", 1),\n ('bad_reviews', 1),\n ('semantic', 1),\n ('efficiency', 1),\n ('fairly_fast_computer', 1),\n ('gig', 1),\n ('plenty', 1),\n ('streaming_video', 1),\n ('date_computer', 1),\n ('fuss', 1),\n ('incarnations', 1),\n ('buggy_implementations', 1),\n ('computer_super', 1),\n ('norton_system', 1),\n ('virtually_installation_problems', 1),\n ('purposes', 1),\n ('clarity', 1),\n ('norton_system_works', 1),\n ('fourth second', 1),\n ('favorite', 1),\n ('occasion', 1),\n ('antivirus_feature', 1),\n ('hope', 1),\n ('royal_pain', 1),\n ('biggest_problem', 1),\n ('system_works', 1),\n ('functionality', 1),\n ('process', 1),\n ('world_profound_understatement', 1),\n ('beginning', 1),\n ('month', 1),\n ('installed_components', 1),\n ('notably_importantly_virus_definitions', 1),\n ('important_feature', 1),\n ('updated_virus_definiations', 1),\n ('risk', 1),\n ('functions', 1),\n ('disk_doctor', 1),\n ('button_checkup', 1),\n ('windoctor', 1),\n ('tasks', 1),\n ('prior_versions', 1),\n ('menu', 1),\n ('innumerable_short_comings', 1),\n ('inability', 1),\n ('annoyance', 1),\n ('single_remnant', 1),\n ('program_feature', 1),\n ('good_job', 1),\n ('norton_removal_program', 1),\n ('fragments', 1),\n ('good_number', 1),\n ('files', 1),\n ('programs_directory', 1),\n ('older_version', 1),\n ('symantec_files', 1),\n ('intructions', 1),\n ('symantecs_website', 1),\n ('october', 1),\n ('fifth', 1),\n ('uninstalled_systemworks', 1),\n ('funtionality_issues', 1),\n ('online_email_assistance', 1),\n ('symantect_technicians', 1),\n ('best_thing', 1),\n ('store_shelf', 1),\n ('enormous', 1),\n ('hard_earned_dollars', 1),\n ('symantect_products', 1),\n ('shame', 1),\n ('highs', 1),\n ('edition', 1),\n ('question', 1),\n ('pros', 1),\n ('cons', 1),\n ('norton_firewall', 1),\n ('windows_firewall', 1),\n ('tech_support_representative', 1),\n ('customer_priority_d_number', 1),\n ('norton_website', 1),\n ('priority', 1),\n ('d_number', 1),\n ('simple_question', 1),\n ('reply', 1),\n ('e', 1),\n ('mail', 1),\n ('boilerplate_paragraphs', 1),\n ('customers', 1),\n ('hoops', 1),\n ('purchase', 1),\n ('equal_priority', 1),\n ('computer_expert', 1),\n ('detailed_instructions', 1),\n ('life', 1),\n ('online_updates', 1),\n ('unexplained_categories', 1),\n ('virus_definitions', 1),\n ('preinstalled_norton_antivirus_trial', 1),\n ('hardest', 1),\n ('run', 1),\n ('software_suite', 1),\n ('combo_package', 1),\n ('liecenses', 1),\n ('integrated_antivirus', 1),\n ('memory_usage', 1),\n ('systems', 1),\n ('system_memory', 1),\n ('older_mhz_system', 1),\n ('pc_ram', 1),\n ('piece', 1),\n ('disks', 1),\n ('best', 1),\n ('visual_backtracking', 1),\n ('infected_computer', 1),\n ('attack', 1),\n ('map', 1),\n ('address', 1),\n ('server', 1),\n ('best_intentions', 1),\n ('letter', 1),\n ('absolute_garbage', 1),\n ('customer_support', 1),\n ('extreme_patience', 1),\n ('heck', 1),\n ('user', 1),\n ('complete_utter_dud', 1),\n ('rip', 1),\n ('hogs_memory', 1),\n ('ages', 1),\n ('parental_controls', 1),\n ('yrs', 1),\n ('october,2004', 1),\n ('capacity', 1),\n ('$_hr', 1),\n ('hold', 1),\n ('pc_cillium_asap', 1),\n ('little_meaningful_difference', 1),\n ('tedius_activation_process', 1),\n ('formatted_drive', 1),\n ('symantec_software_product', 1),\n ('popup', 1),\n ('ad_blockers', 1),\n ('referrer_blockers', 1),\n ('intrusion_detection', 1),\n ('new_2.8mz_pentium_256ram_computer', 1),\n ('day', 1),\n ('hangups', 1),\n ('continual_reboots', 1),\n ('long_shutdowns', 1),\n ('ccapp.exe_program', 1),\n ('norton_program', 1),\n ('long_reboots', 1),\n ('boot', 1),\n ('windows_virtual_memory_low_error_messages', 1),\n ('ridiculous_slowdowns', 1),\n ('good_thing', 1),\n ('reviewer', 1),\n ('star', 1),\n ('online_support', 1),\n ('computer_company', 1),\n ('known_company', 1),\n ('kinds', 1),\n ('culprit', 1),\n ('mcaffee norton systemworks', 1),\n ('techie_friend', 1),\n ('benefit', 1),\n ('doubt', 1),\n ('rare_troubles', 1),\n ('wrong_update', 1),\n ('hunk', 1),\n ('junk_internet_av_package', 1),\n ('exact_things', 1),\n ('norton_corporate_edition', 1),\n ('NOT_firewall', 1),\n ('utilities', 1),\n ('counter', 1),\n ('troubles', 1),\n ('hmmmm', 1),\n ('good_luck', 1),\n ('sytemworks', 1),\n ('absolutely_NOT_trouble', 1),\n ('norton_professional_version', 1),\n ('virus_systemworks_products', 1),\n ('quality', 1),\n ('ease', 1),\n ('use', 1),\n ('internet_security_program', 1),\n ('advanced_computer_user', 1),\n ('new_novice_user', 1),\n ('terrible_program', 1),\n ('windows_xp_home', 1),\n ('automatic_updates', 1),\n ('microsoft', 1),\n ('program_scan_feature', 1),\n ('exe_file', 1),\n ('program_file', 1),\n ('symantec_support', 1),\n ('applications', 1),\n ('tech_persons_line', 1),\n ('microsoft_error', 1),\n ('symantec_error', 1),\n ('recent_update', 1),\n ('browser_window', 1),\n ('NOT_solutions', 1),\n ('online_email_support', 1),\n ('ridiculous_set', 1),\n ('steps', 1),\n ('screen_prints', 1),\n ('pdf_files', 1),\n ('disabled_mode', 1),\n ('troublesome_bug_filled_program', 1),\n ('mcafee_products', 1),\n ('bit', 1),\n ('company', 1),\n ('profit', 1),\n ('father', 1),\n ('previous_versions', 1),\n ('options', 1),\n ('popup_warnings', 1),\n ('window', 1),\n ('detail', 1),\n ('intrusion', 1),\n ('popup_blocker', 1),\n ('bonuses', 1),\n ('rebate_instructions', 1),\n ('rebate', 1),\n ('processing_agency', 1),\n ('ownership', 1),\n ('previous_product', 1),\n ('recourse', 1),\n ('consumer', 1),\n ('cases', 1),\n ('startup', 1),\n ('reboot', 1),\n ('exciting_new_features', 1),\n ('average_computer_user', 1),\n ('symantec_website', 1),\n ('support_tab', 1),\n ('home_home_office_support', 1),\n ('automated_support_assistant', 1),\n ('norton_program_files', 1),\n ('plague', 1),\n ('past_months', 1),\n ('resellers', 1),\n ('spammers', 1),\n ('bad_sign', 1),\n ('fortunate_ones', 1),\n ('NOT_problem', 1),\n ('personal_firewall', 1),\n ('folk_problems', 1),\n ('win_xp', 1),\n ('user_interface', 1),\n ('ad_pop_blocking_feature', 1),\n ('w_logs', 1),\n ('internet_usage', 1),\n ('i.s cnet amazon nis 04', 1),\n ('variety', 1),\n ('sources', 1),\n ('message_boards', 1),\n ('conclusion', 1),\n ('terrible_product', 1),\n ('january', 1),\n ('jan', 1),\n ('verisign_problem', 1),\n ('w_word', 1),\n ('excel', 1),\n ('nis_patch', 1),\n ('sudden', 1),\n ('reviewers', 1),\n ('ad_pop_blocking', 1),\n ('file_log', 1),\n ('cookies', 1),\n ('unauthorized_sites', 1),\n ('extensive_researching', 1),\n ('tech_line', 1),\n ('close_minutes', 1),\n ('tech_supervisor', 1),\n ('link', 1),\n ('clean', 1),\n ('complete_uninstall', 1),\n ('second', 1),\n ('renewal', 1),\n ('tech_help', 1),\n ('option', 1),\n ('individual_components', 1),\n ('norton_antispam', 1),\n ('eudora', 1),\n ('message', 1),\n ('possibility', 1),\n ('designers', 1),\n ('number', 1),\n ('popups', 1),\n ('start', 1),\n ('big_reason', 1),\n ('norton_product', 1),\n ('ones', 1),\n ('nice_little_racket', 1),\n ('public', 1),\n ('install_problems', 1),\n ('particular_solutions', 1),\n ('driver_preferences', 1),\n ('featured_product', 1),\n ('virus_spam_definition_updates', 1),\n ('click', 1),\n ('spam_killer', 1),\n ('wizard', 1),\n ('lan', 1),\n ('set', 1),\n ('internet_connection', 1),\n ('registry_problems', 1),\n ('format', 1),\n ('extensive_incapatability_issues', 1),\n ('personal_info', 1),\n ('NOT_live_help', 1),\n ('numbers', 1),\n ('sites', 1),\n ('non_tech_customer_service', 1),\n ('minute', 1),\n ('muzac', 1),\n ('$_tech_support_number', 1),\n ('defect', 1),\n ('free_support_number', 1),\n ('isp_support_staff', 1),\n ('hour', 1),\n ('voice', 1),\n ('emails', 1),\n ('terrible_company', 1),\n ('awful_support', 1),\n ('mccaffee', 1),\n ('sickly_disappointment', 1),\n ('thier_customers', 1),\n ('security_software_suite', 1),\n ('value', 1),\n ('symantec_software_suite', 1),\n ('norton antispam & norton', 1),\n ('ass_firewall_program', 1),\n ('venerable_norton_antivirus', 1),\n ('extras', 1),\n ('parental_control', 1),\n ('broadband_internet_access', 1),\n ('detractors', 1),\n ('needs', 1),\n ('hell', 1),\n ('lousy_job', 1),\n ('luckly', 1),\n ('rebates', 1),\n ('window_registery', 1),\n ('nortron', 1),\n ('common_files', 1),\n ('program_folder', 1),\n ('symantec_folder', 1),\n ('folder', 1),\n ('NOT_previous_version', 1),\n ('nortron_antivirus', 1),\n ('major_registery', 1),\n ('up!the_old_programs', 1),\n ('trace', 1),\n ('new_installation', 1),\n ('old_programs', 1),\n ('zero_support_form', 1),\n ('fee', 1),\n ('free_versions', 1),\n ('free_version', 1),\n ('sygate', 1),\n ('nice_easy_installation', 1),\n ('firewall_version', 1),\n ('zero_star', 1),\n ('ie', 1),\n ('computer_configuration', 1),\n ('point', 1),\n ('free_help', 1),\n ('pc_internet_works', 1),\n ('firewall_program_configuration', 1),\n ('meg 2000pro', 1),\n ('buyers', 1),\n ('processing_sloths', 1),\n ('copy', 1),\n ('2.4_gig_xp_pro_processor', 1),\n ('pc_cillin', 1),\n ('slick_product', 1),\n ('xp_pro_2.4_gig_pc_lags', 1),\n ('input', 1),\n ('characters', 1),\n ('apology', 1),\n ('rate', 1),\n ('beware', 1),\n ('banner_ads', 1),\n ('pop_ups', 1),\n ('reliable_antivirus', 1),\n ('word', 1),\n ('explorer', 1),\n ('netscape', 1),\n ('acrobat_reader', 1),\n ('photoshop', 1),\n ('gb_memory', 1),\n ('pccillins', 1),\n ('mccafees', 1),\n ('significant_turn', 1),\n ('effective_firewall', 1),\n ('a sony vaio s-150', 1),\n ('end', 1),\n ('past_august', 1),\n ('case', 1),\n ('change', 1),\n ('contrary', 1),\n ('upgrade', 1),\n ('useful_features', 1),\n ('editor_choice_article', 1),\n ('great_experience', 1),\n ('security_program', 1),\n ('order', 1),\n ('pop_control', 1),\n ('previous_experience', 1),\n ('multiple_symantec_norton_products', 1),\n ('operating_interfaces', 1),\n ('email_spam_component', 1),\n ('56k_dial_internet_service', 1),\n ('dell_2ghz_pentium', 1),\n ('excellent_broadband_service', 1),\n ('past_year', 1),\n ('anti_virus_service', 1),\n ('NOT_improvement', 1),\n ('absolutely', 1),\n ('symantec_norton_site', 1),\n ('old_version', 1),\n ('fix', 1),\n ('vendor', 1),\n ('disparaging_reviews', 1),\n ('bad_experience', 1),\n ('rdram', 1),\n ('cable_modem', 1),\n ('unistall_nis', 1),\n ('program_change_button', 1),\n ('norton_internet_security_folders', 1),\n ('programs_section', 1),\n ('winfax', 1),\n ('pro', 1),\n ('windows_registry', 1),\n ('activated_registered_nis', 1),\n ('issue', 1),\n ('anti_spam_feature', 1),\n ('NOT_computer_geek', 1),\n ('outlook_email', 1),\n ('audible_sample_books', 1),\n ('email', 1),\n ('streaming_programs', 1),\n ('mental_challenges', 1),\n ('locks', 1),\n ('security_buy_zone_alarm', 1),\n ('friendly_program', 1),\n ('dell laptop', 1),\n ('junk', 1),\n ('damn_thing', 1),\n ('chance', 1),\n ('day_night_download_install', 1),\n ('dial', 1),\n ('drive', 1),\n ('scratch', 1),\n ('grrrrrr', 1),\n ('dsl', 1),\n ('wireless_network', 1),\n ('desktop', 1),\n ('third', 1),\n ('NOT_time', 1),\n ('new_xp', 1),\n ('antivirus_programs', 1),\n ('ez firewall', 1),\n ('trial_version', 1),\n ('computer_associates', 1),\n ('love', 1),\n ('computer_security_system', 1),\n ('virusscan 7 amazon', 1),\n ('error', 1),\n ('+_months', 1),\n ('mcafee_subscription', 1),\n ('remnants', 1),\n ('pent4', 1),\n ('combination', 1),\n ('program_size', 1),\n ('resources', 1),\n ('open_close_scanning', 1),\n ('ms_money_database', 1),\n ('modern_pc', 1),\n ('speed', 1),\n ('halt', 1),\n ('home_network', 1),\n ('multiple_users', 1),\n ('half_life', 1),\n ('antivirus_protection', 1),\n ('av_protection', 1),\n ('required_permissions', 1),\n ('proper_administrator_status', 1),\n ('home_computer', 1),\n ('symantec_customer_service', 1),\n ('useless_automated_systems', 1),\n ('incident', 1),\n ('damn_alert', 1),\n ('msconfig', 1),\n ('services_tab', 1),\n ('norton_symantec_service', 1),\n ('uninstall', 1),\n ('uninstallation_process', 1),\n ('bare_bleeding_hands', 1)]"
     },
     "execution_count": 7,
     "metadata": {},
     "output_type": "execute_result"
    }
   ],
   "source": [
    "flattened_list =  [category for category_set  in review_1[\"ExtractedCategories\"] for category in category_set]\n",
    "counter = Counter(flattened_list)\n",
    "counter.most_common()"
   ],
   "metadata": {
    "collapsed": false,
    "ExecuteTime": {
     "end_time": "2023-12-17T16:47:45.781763Z",
     "start_time": "2023-12-17T16:47:45.655729Z"
    }
   }
  },
  {
   "cell_type": "code",
   "execution_count": 7,
   "outputs": [],
   "source": [],
   "metadata": {
    "collapsed": false,
    "ExecuteTime": {
     "end_time": "2023-12-17T16:47:45.781913Z",
     "start_time": "2023-12-17T16:47:45.681989Z"
    }
   }
  },
  {
   "cell_type": "code",
   "execution_count": 7,
   "outputs": [],
   "source": [],
   "metadata": {
    "collapsed": false,
    "ExecuteTime": {
     "end_time": "2023-12-17T16:47:45.781983Z",
     "start_time": "2023-12-17T16:47:45.685067Z"
    }
   }
  }
 ],
 "metadata": {
  "kernelspec": {
   "display_name": "nlp_env",
   "language": "python",
   "name": "python3"
  },
  "language_info": {
   "codemirror_mode": {
    "name": "ipython",
    "version": 3
   },
   "file_extension": ".py",
   "mimetype": "text/x-python",
   "name": "python",
   "nbconvert_exporter": "python",
   "pygments_lexer": "ipython3",
   "version": "3.9.18"
  }
 },
 "nbformat": 4,
 "nbformat_minor": 2
}
